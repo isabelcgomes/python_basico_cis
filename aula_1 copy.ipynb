{
 "cells": [
  {
   "cell_type": "markdown",
   "metadata": {},
   "source": [
    "# Curso PCA e Clustering IEEE CIS UnB\n",
    "\n",
    "## Aula 1 - Python Básico\n",
    "\n",
    "Olá! Seja bem vindo ao curso de PCA e Clustering, uma parceria entre o IEEE CIS e a Estat.\n",
    "\n",
    "Nesse curso, você vai aprender mais sobre esses dois métodos de tratamento, mas, primeiro, vamos falar um pouco sobre Python Básico.\n",
    "\n",
    "Este notebook é dividido em seções para você poder executar uma trilha de aprendizado passo a passo no conteúdo de python básico. A ideia é que você faça ele junto com a gente na aula."
   ]
  },
  {
   "cell_type": "markdown",
   "metadata": {},
   "source": [
    "## Parte 1 - Hello Python"
   ]
  },
  {
   "cell_type": "markdown",
   "metadata": {},
   "source": [
    "Dentre as coisas mais interessantes do python, a gente sempre tem que mencionar a facilidade da linguagem e seu alto potencial de escalabilidade. Para começar, vamos passar para vocês o básico da sintaxe da linguagem.\n",
    "\n",
    "Vamos mostrar no terminal \"Hello Python\" de 3 formas diferentes"
   ]
  },
  {
   "cell_type": "markdown",
   "metadata": {},
   "source": [
    "A primeira delas e mais simples é por meio da sintaxe padrão do python para mostrar coisas no terminal, a função print()"
   ]
  },
  {
   "cell_type": "code",
   "execution_count": 1,
   "metadata": {},
   "outputs": [
    {
     "name": "stdout",
     "output_type": "stream",
     "text": [
      "Output Esperado:\n",
      "Hello Python\n"
     ]
    }
   ],
   "source": []
  },
  {
   "cell_type": "markdown",
   "metadata": {},
   "source": [
    "Na segunda forma, vamos falar um pouco sobre atribuição de variáveis. Essa forma é particularmente útil para podermos alterar nosso print depois.\n",
    "\n",
    "Para atribuir uma variável em python, basta colocar o nome da variável e o sinal de = após isso, basta atribuir o valor daquela variável.\n",
    "\n",
    "Por exemplo:"
   ]
  },
  {
   "cell_type": "code",
   "execution_count": 3,
   "metadata": {},
   "outputs": [],
   "source": [
    "cis = 'Capítulo Estudantil'\n",
    "estat = 'Empresa Júnior'"
   ]
  },
  {
   "cell_type": "markdown",
   "metadata": {},
   "source": [
    "Note que o nome da variável não está entre aspas, mas seu valor está. Vamos falar disso daqui a pouco, no momento é importante que vocês saibam que o nome da variável nunca é definido com aspas."
   ]
  },
  {
   "cell_type": "markdown",
   "metadata": {},
   "source": [
    "Agora é sua vez, mostre \"Hello Python\" no terminal por meio de uma atribuição de variáveis."
   ]
  },
  {
   "cell_type": "code",
   "execution_count": 2,
   "metadata": {},
   "outputs": [
    {
     "name": "stdout",
     "output_type": "stream",
     "text": [
      "Output Esperado:\n",
      "Hello Python\n"
     ]
    }
   ],
   "source": []
  },
  {
   "cell_type": "markdown",
   "metadata": {},
   "source": [
    "Note que você pode colocar qualquer nome na sua variável que só o que irá ser mostrado no terminal é seu valor."
   ]
  },
  {
   "cell_type": "code",
   "execution_count": 5,
   "metadata": {},
   "outputs": [
    {
     "name": "stdout",
     "output_type": "stream",
     "text": [
      "Hello Python\n"
     ]
    }
   ],
   "source": []
  },
  {
   "cell_type": "markdown",
   "metadata": {},
   "source": [
    "# Parte 2 - Tipos de dados"
   ]
  },
  {
   "cell_type": "markdown",
   "metadata": {},
   "source": [
    "O python trabalha com vários tipos de informação diferentes. Podem ser textos, números inteiros, números decimais, listas e por aí vai.\n",
    "\n",
    "Diferente de outras linguagens, no python não é necessário declarar o tipo de uma variável para fazer ela funcionar, mas existem formas diferentes de escrever uma variável que transforma ela em cada tipo diferente.\n",
    "\n",
    "Por exemplo:"
   ]
  },
  {
   "cell_type": "code",
   "execution_count": 6,
   "metadata": {},
   "outputs": [],
   "source": [
    "texto = '1'\n",
    "inteiro = 1\n",
    "decimal = 1.0\n",
    "lista = [1]\n",
    "dicionario = {'1':1}"
   ]
  },
  {
   "cell_type": "markdown",
   "metadata": {},
   "source": [
    "Observe, nesse caso, que a informação é a mesma (o número 1), ela só está cada uma com um tipo diferente. Para saber qual é o tipo de uma variável, basta usar a função type().\n",
    "\n",
    "Sua vez, descubra o tipo das variáveis que foram declaradas ali em cima."
   ]
  },
  {
   "cell_type": "code",
   "execution_count": 7,
   "metadata": {},
   "outputs": [
    {
     "name": "stdout",
     "output_type": "stream",
     "text": [
      "Output esperado:\n",
      "<class 'str'>\n",
      "<class 'int'>\n",
      "<class 'float'>\n",
      "<class 'list'>\n",
      "<class 'dict'>\n"
     ]
    }
   ],
   "source": [
    "print('Output esperado:')\n",
    "print(type(texto))\n",
    "print(type(inteiro))\n",
    "print(type(decimal))\n",
    "print(type(lista))\n",
    "print(type(dicionario))"
   ]
  },
  {
   "cell_type": "markdown",
   "metadata": {},
   "source": [
    "Lembra quando a gente falou das aspas lá em cima? é por isso, o nome da variável não é um texto, por isso não deve ser escrito entre aspas.\n",
    "\n",
    "Além disso, para não confundir, nomes de variáveis não podem começar com números e não podem conter pontos. "
   ]
  },
  {
   "cell_type": "markdown",
   "metadata": {},
   "source": [
    "## Parte 3 - Operadores"
   ]
  },
  {
   "cell_type": "markdown",
   "metadata": {},
   "source": [
    "Agora que você sabe um pouco mais sobre os tipos de dados, nós podemos começar a fazer operações com eles."
   ]
  },
  {
   "cell_type": "markdown",
   "metadata": {},
   "source": [
    "Cada tipo de dado se comporta de forma diferente em cada operação. Por exemplo, não dá para multiplicar um texto, mas dá para controlar a quantidade de vezes que ele aparece."
   ]
  },
  {
   "cell_type": "code",
   "execution_count": 8,
   "metadata": {},
   "outputs": [
    {
     "name": "stdout",
     "output_type": "stream",
     "text": [
      "111\n"
     ]
    }
   ],
   "source": [
    "print(texto * 3)"
   ]
  },
  {
   "cell_type": "markdown",
   "metadata": {},
   "source": [
    "A variável 'texto' tem o valor '1', se nós multiplicarmos esse '1' por 3, ele irá aparecer 3 vezes, por isso o resultado '111'"
   ]
  },
  {
   "cell_type": "markdown",
   "metadata": {},
   "source": [
    "Faz com as outras variáveis, vamos ver qual o resultado de cada uma delas:"
   ]
  },
  {
   "cell_type": "code",
   "execution_count": 16,
   "metadata": {},
   "outputs": [],
   "source": [
    "texto = '1'\n",
    "inteiro = 1\n",
    "decimal = 1.0\n",
    "lista = [1]\n",
    "dicionario = {'1':1}"
   ]
  },
  {
   "cell_type": "code",
   "execution_count": 12,
   "metadata": {},
   "outputs": [
    {
     "name": "stdout",
     "output_type": "stream",
     "text": [
      "Output esperado para o tipo inteiro:\n",
      "3\n"
     ]
    }
   ],
   "source": [
    "print('Output esperado para o tipo inteiro:')\n",
    "print(inteiro * 3)"
   ]
  },
  {
   "cell_type": "code",
   "execution_count": 13,
   "metadata": {},
   "outputs": [
    {
     "name": "stdout",
     "output_type": "stream",
     "text": [
      "Output esperado para o tipo decimal:\n",
      "3.0\n"
     ]
    }
   ],
   "source": [
    "print('Output esperado para o tipo decimal:')\n",
    "print(decimal * 3)\n"
   ]
  },
  {
   "cell_type": "code",
   "execution_count": 17,
   "metadata": {},
   "outputs": [
    {
     "name": "stdout",
     "output_type": "stream",
     "text": [
      "Output esperado para o tipo lista:\n",
      "[1, 1, 1]\n"
     ]
    }
   ],
   "source": [
    "print('Output esperado para o tipo lista:')\n",
    "print(lista * 3)\n"
   ]
  },
  {
   "cell_type": "code",
   "execution_count": 18,
   "metadata": {},
   "outputs": [
    {
     "name": "stdout",
     "output_type": "stream",
     "text": [
      "Output esperado para o tipo dicionario:\n"
     ]
    },
    {
     "ename": "TypeError",
     "evalue": "unsupported operand type(s) for *: 'dict' and 'int'",
     "output_type": "error",
     "traceback": [
      "\u001b[1;31m---------------------------------------------------------------------------\u001b[0m",
      "\u001b[1;31mTypeError\u001b[0m                                 Traceback (most recent call last)",
      "\u001b[1;32m<ipython-input-18-f879ac173d4b>\u001b[0m in \u001b[0;36m<module>\u001b[1;34m\u001b[0m\n\u001b[0;32m      1\u001b[0m \u001b[0mprint\u001b[0m\u001b[1;33m(\u001b[0m\u001b[1;34m'Output esperado para o tipo dicionario:'\u001b[0m\u001b[1;33m)\u001b[0m\u001b[1;33m\u001b[0m\u001b[1;33m\u001b[0m\u001b[0m\n\u001b[1;32m----> 2\u001b[1;33m \u001b[0mprint\u001b[0m\u001b[1;33m(\u001b[0m\u001b[0mdicionario\u001b[0m \u001b[1;33m*\u001b[0m \u001b[1;36m3\u001b[0m\u001b[1;33m)\u001b[0m\u001b[1;33m\u001b[0m\u001b[1;33m\u001b[0m\u001b[0m\n\u001b[0m",
      "\u001b[1;31mTypeError\u001b[0m: unsupported operand type(s) for *: 'dict' and 'int'"
     ]
    }
   ],
   "source": [
    "print('Output esperado para o tipo dicionario:')\n",
    "print(dicionario * 3)\n"
   ]
  },
  {
   "cell_type": "markdown",
   "metadata": {},
   "source": [
    "Note que para o tipo \"dicionário\" ele retorna um erro. Isso acontece porque para cada tipo existem funções e métodos diferentes. Alguns são compatíveis, outros não são. Para fazer essa operação com o dicionário vamos precisar fazer uma iteração e que já já vamos falar mais sobre"
   ]
  },
  {
   "cell_type": "markdown",
   "metadata": {},
   "source": [
    "Além desse operador, podemos também somar, subtrair e por aí vai, veja no exemplo"
   ]
  }
 ],
 "metadata": {
  "interpreter": {
   "hash": "494d690cf5f90555aa00be586a231029ddc5adc2c928571cded06d41a2941d0b"
  },
  "kernelspec": {
   "display_name": "Python 3.8.9 64-bit",
   "language": "python",
   "name": "python3"
  },
  "language_info": {
   "codemirror_mode": {
    "name": "ipython",
    "version": 3
   },
   "file_extension": ".py",
   "mimetype": "text/x-python",
   "name": "python",
   "nbconvert_exporter": "python",
   "pygments_lexer": "ipython3",
   "version": "3.8.9"
  },
  "orig_nbformat": 4
 },
 "nbformat": 4,
 "nbformat_minor": 2
}
